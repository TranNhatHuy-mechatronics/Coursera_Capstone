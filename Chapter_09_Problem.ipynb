{
 "cells": [
  {
   "cell_type": "markdown",
   "metadata": {},
   "source": [
    "# Introduction: Business Problem "
   ]
  },
  {
   "cell_type": "markdown",
   "metadata": {},
   "source": [
    "Lately year, almost people go to restaurant is increate. This is a reason opening a restaurant is create. So opening a restaurant is trend of almost people. And there are so many question how to opening a restaurant with compare order such as: amount of investment, food, material, staff,… and a question is important too is where do you open restaurant. So now I will discuss this problem.\n",
    "This is an important step in restaurant business to opening a restaurant. But that is usually skip to save time and cost. However, that is a first reason lead to a restaurant losses and closures.\n",
    "A restaurant can’t attract all customers. So, a restaurant need decision your market and your object customer. Besides, learning about your competitors  which help you ceate business advantages. So, when you learning market before restaurant business, you need answer some question in bellow:\n",
    "-\tYour object business?\n",
    "-\tYour competitors?\n",
    "-\tInformation about your product of competitors? \n",
    "-\tWhat strengths and weaknesses do they have?\n",
    "-\tDescription about your object customer?\n",
    "-\tHabit of customer (product, service)?\n",
    "-\tCustomer’s demand?\n",
    "-\tWhere do you open restaurant?\n",
    "\n",
    "When you answer all question, then need ideals for opening a  restaurant. Ideals base on object customer and amount of investment. Ideals include style, business model, food,… Your ideals need attention to trend of market. Because maybe you obsolete in market.\n",
    "Then you need choose restaurant model. Restaurant business market is very large. So you should decision kind of restaurant. You should base on ideals, amount of investment, object customer’s demand.\n",
    "End finally, when decision your all object. you need choose a location to opening restaurant. So how can you choose a suitable position. So now, I will research this problem."
   ]
  },
  {
   "cell_type": "code",
   "execution_count": null,
   "metadata": {},
   "outputs": [],
   "source": []
  }
 ],
 "metadata": {
  "kernelspec": {
   "display_name": "Python 3",
   "language": "python",
   "name": "python3"
  },
  "language_info": {
   "codemirror_mode": {
    "name": "ipython",
    "version": 3
   },
   "file_extension": ".py",
   "mimetype": "text/x-python",
   "name": "python",
   "nbconvert_exporter": "python",
   "pygments_lexer": "ipython3",
   "version": "3.6.8"
  }
 },
 "nbformat": 4,
 "nbformat_minor": 2
}
