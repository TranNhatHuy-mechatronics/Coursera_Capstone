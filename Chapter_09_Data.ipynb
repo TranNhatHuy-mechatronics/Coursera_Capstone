{
 "cells": [
  {
   "cell_type": "markdown",
   "metadata": {},
   "source": [
    "# Data"
   ]
  },
  {
   "cell_type": "markdown",
   "metadata": {},
   "source": [
    "To definition our problem, we will decision my data are:\n",
    "- Number of restaurant in the neighborhood\n",
    "- Number of Vietnam restaurant in the neighborhood and distance to get there\n",
    "- We will decided location where have a few Vietnam restaurant in the neighborhood but closed city center.\n",
    "Data sources:\n",
    "- Number of restaurant in Toronto\n",
    "- Foursquare API"
   ]
  },
  {
   "cell_type": "code",
   "execution_count": null,
   "metadata": {},
   "outputs": [],
   "source": []
  }
 ],
 "metadata": {
  "kernelspec": {
   "display_name": "Python 3",
   "language": "python",
   "name": "python3"
  },
  "language_info": {
   "codemirror_mode": {
    "name": "ipython",
    "version": 3
   },
   "file_extension": ".py",
   "mimetype": "text/x-python",
   "name": "python",
   "nbconvert_exporter": "python",
   "pygments_lexer": "ipython3",
   "version": "3.6.8"
  }
 },
 "nbformat": 4,
 "nbformat_minor": 2
}
