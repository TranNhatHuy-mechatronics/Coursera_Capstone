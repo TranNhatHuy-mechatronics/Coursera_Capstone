{
 "cells": [
  {
   "cell_type": "markdown",
   "metadata": {},
   "source": [
    "# Data"
   ]
  },
  {
   "cell_type": "markdown",
   "metadata": {},
   "source": [
    "To definition our problem, we will decision my data are:\n",
    "- Number of restaurant in the neighborhood\n",
    "- We will decided location where have a few restaurant in the neighborhood but closed city center.\n",
    "\n",
    "Data sources:\n",
    "- Number of restaurant in Ho Chi Minh\n",
    "- Foursquare API\n",
    "\n",
    "Sources of data:\n",
    "Wikipedia page https://worldpostalcode.com/vietnam/dong-nam-bo/ho-chi-minh/. This is web have contain about list of neighborhood in Ho Chi Minh City. Which total 24 neighborhoods. We use web craping techniques to get data from the Wikipedia page. With the help of Python request and Beautifulsoup package. Then I will get location (latitude, longitude) from each neighborhood (using Python Geocoder package) and then create a map to show location on map.\n",
    "Then I use Foursquare API to get the venue data for all neighbourhoods. Foursquare has a large database about places, information for each place. Foursquare will provide many categories of the venue data. In this project I will use this data and many data science skills to solve the problem business (web craping, interface with Foursquare API, cleaning data, K-mean clustering and map visualization (folium)."
   ]
  },
  {
   "cell_type": "code",
   "execution_count": null,
   "metadata": {},
   "outputs": [],
   "source": []
  }
 ],
 "metadata": {
  "kernelspec": {
   "display_name": "Python 3",
   "language": "python",
   "name": "python3"
  },
  "language_info": {
   "codemirror_mode": {
    "name": "ipython",
    "version": 3
   },
   "file_extension": ".py",
   "mimetype": "text/x-python",
   "name": "python",
   "nbconvert_exporter": "python",
   "pygments_lexer": "ipython3",
   "version": "3.6.8"
  }
 },
 "nbformat": 4,
 "nbformat_minor": 2
}
